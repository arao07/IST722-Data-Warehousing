{
 "cells": [
  {
   "cell_type": "code",
   "execution_count": 1,
   "metadata": {},
   "outputs": [],
   "source": [
    "import pandas as pd\n",
    "import numpy as np\n",
    "from pyspark.sql import SparkSession\n",
    "from pyspark.sql import functions as fn\n",
    "from pyspark.ml.feature import RegexTokenizer\n",
    "from pyspark.ml import Pipeline\n",
    "from pyspark.sql.types import StringType\n",
    "\n",
    "spark = SparkSession.builder.getOrCreate()\n",
    "sc = spark.sparkContext"
   ]
  },
  {
   "cell_type": "code",
   "execution_count": 2,
   "metadata": {},
   "outputs": [],
   "source": [
    "tweets = pd.read_excel(\"Tweets.xlsx\", sheet_name = \"Tweets\")\n",
    "dictionary = pd.read_excel(\"Tweets.xlsx\", sheet_name = \"Dictionary\")"
   ]
  },
  {
   "cell_type": "code",
   "execution_count": 3,
   "metadata": {
    "scrolled": true
   },
   "outputs": [
    {
     "data": {
      "text/html": [
       "<div>\n",
       "<style scoped>\n",
       "    .dataframe tbody tr th:only-of-type {\n",
       "        vertical-align: middle;\n",
       "    }\n",
       "\n",
       "    .dataframe tbody tr th {\n",
       "        vertical-align: top;\n",
       "    }\n",
       "\n",
       "    .dataframe thead th {\n",
       "        text-align: right;\n",
       "    }\n",
       "</style>\n",
       "<table border=\"1\" class=\"dataframe\">\n",
       "  <thead>\n",
       "    <tr style=\"text-align: right;\">\n",
       "      <th></th>\n",
       "      <th>TweetID</th>\n",
       "      <th>UnixTimeStamp</th>\n",
       "      <th>TimeStamp</th>\n",
       "      <th>TwitterUserID</th>\n",
       "      <th>Tweet</th>\n",
       "    </tr>\n",
       "  </thead>\n",
       "  <tbody>\n",
       "    <tr>\n",
       "      <td>0</td>\n",
       "      <td>4007366899589130240</td>\n",
       "      <td>1.245849e+09</td>\n",
       "      <td>Wed Jun 24 09:15:29 +0000 2009</td>\n",
       "      <td>benarreau</td>\n",
       "      <td>Really enjoying my jewelry purchase from @fudg...</td>\n",
       "    </tr>\n",
       "    <tr>\n",
       "      <td>1</td>\n",
       "      <td>1917240238549289984</td>\n",
       "      <td>1.354665e+09</td>\n",
       "      <td>Tue Dec 04 18:46:22 +0000 2012</td>\n",
       "      <td>benarreau</td>\n",
       "      <td>Fudgemart's digital downloads: paltry!</td>\n",
       "    </tr>\n",
       "    <tr>\n",
       "      <td>2</td>\n",
       "      <td>2764278507764550144</td>\n",
       "      <td>1.248408e+09</td>\n",
       "      <td>Fri Jul 24 00:00:00 +0000 2009</td>\n",
       "      <td>benarreau</td>\n",
       "      <td>Who uses the fudgemart website</td>\n",
       "    </tr>\n",
       "    <tr>\n",
       "      <td>3</td>\n",
       "      <td>2737642715545119744</td>\n",
       "      <td>1.278820e+09</td>\n",
       "      <td>Sat Jul 10 23:51:32 +0000 2010</td>\n",
       "      <td>benarreau</td>\n",
       "      <td>#fudgemart customer service is predictable</td>\n",
       "    </tr>\n",
       "    <tr>\n",
       "      <td>4</td>\n",
       "      <td>846963692469470976</td>\n",
       "      <td>1.324767e+09</td>\n",
       "      <td>Sat Dec 24 17:43:07 +0000 2011</td>\n",
       "      <td>benarreau</td>\n",
       "      <td>#fudgemart customer service is predictable</td>\n",
       "    </tr>\n",
       "  </tbody>\n",
       "</table>\n",
       "</div>"
      ],
      "text/plain": [
       "               TweetID  UnixTimeStamp                       TimeStamp  \\\n",
       "0  4007366899589130240   1.245849e+09  Wed Jun 24 09:15:29 +0000 2009   \n",
       "1  1917240238549289984   1.354665e+09  Tue Dec 04 18:46:22 +0000 2012   \n",
       "2  2764278507764550144   1.248408e+09  Fri Jul 24 00:00:00 +0000 2009   \n",
       "3  2737642715545119744   1.278820e+09  Sat Jul 10 23:51:32 +0000 2010   \n",
       "4   846963692469470976   1.324767e+09  Sat Dec 24 17:43:07 +0000 2011   \n",
       "\n",
       "  TwitterUserID                                              Tweet  \n",
       "0     benarreau  Really enjoying my jewelry purchase from @fudg...  \n",
       "1     benarreau             Fudgemart's digital downloads: paltry!  \n",
       "2     benarreau                     Who uses the fudgemart website  \n",
       "3     benarreau         #fudgemart customer service is predictable  \n",
       "4     benarreau         #fudgemart customer service is predictable  "
      ]
     },
     "execution_count": 3,
     "metadata": {},
     "output_type": "execute_result"
    }
   ],
   "source": [
    "tweets.head()"
   ]
  },
  {
   "cell_type": "code",
   "execution_count": 23,
   "metadata": {},
   "outputs": [
    {
     "data": {
      "text/plain": [
       "TweetID            int64\n",
       "UnixTimeStamp    float64\n",
       "TimeStamp         object\n",
       "TwitterUserID     object\n",
       "Tweet             object\n",
       "dtype: object"
      ]
     },
     "execution_count": 23,
     "metadata": {},
     "output_type": "execute_result"
    }
   ],
   "source": [
    "tweets.dtypes"
   ]
  },
  {
   "cell_type": "code",
   "execution_count": 4,
   "metadata": {},
   "outputs": [
    {
     "data": {
      "text/plain": [
       "(625, 5)"
      ]
     },
     "execution_count": 4,
     "metadata": {},
     "output_type": "execute_result"
    }
   ],
   "source": [
    "tweets.shape"
   ]
  },
  {
   "cell_type": "code",
   "execution_count": 5,
   "metadata": {
    "scrolled": true
   },
   "outputs": [
    {
     "data": {
      "text/html": [
       "<div>\n",
       "<style scoped>\n",
       "    .dataframe tbody tr th:only-of-type {\n",
       "        vertical-align: middle;\n",
       "    }\n",
       "\n",
       "    .dataframe tbody tr th {\n",
       "        vertical-align: top;\n",
       "    }\n",
       "\n",
       "    .dataframe thead th {\n",
       "        text-align: right;\n",
       "    }\n",
       "</style>\n",
       "<table border=\"1\" class=\"dataframe\">\n",
       "  <thead>\n",
       "    <tr style=\"text-align: right;\">\n",
       "      <th></th>\n",
       "      <th>type</th>\n",
       "      <th>length</th>\n",
       "      <th>word</th>\n",
       "      <th>part_of_speech</th>\n",
       "      <th>stemmed</th>\n",
       "      <th>polarity</th>\n",
       "    </tr>\n",
       "  </thead>\n",
       "  <tbody>\n",
       "    <tr>\n",
       "      <td>0</td>\n",
       "      <td>strongsubj</td>\n",
       "      <td>1</td>\n",
       "      <td>bestial</td>\n",
       "      <td>adj</td>\n",
       "      <td>n</td>\n",
       "      <td>negative</td>\n",
       "    </tr>\n",
       "    <tr>\n",
       "      <td>1</td>\n",
       "      <td>strongsubj</td>\n",
       "      <td>1</td>\n",
       "      <td>bewildered</td>\n",
       "      <td>adj</td>\n",
       "      <td>n</td>\n",
       "      <td>negative</td>\n",
       "    </tr>\n",
       "    <tr>\n",
       "      <td>2</td>\n",
       "      <td>strongsubj</td>\n",
       "      <td>1</td>\n",
       "      <td>bewildering</td>\n",
       "      <td>adj</td>\n",
       "      <td>n</td>\n",
       "      <td>negative</td>\n",
       "    </tr>\n",
       "    <tr>\n",
       "      <td>3</td>\n",
       "      <td>strongsubj</td>\n",
       "      <td>1</td>\n",
       "      <td>bias</td>\n",
       "      <td>adj</td>\n",
       "      <td>n</td>\n",
       "      <td>negative</td>\n",
       "    </tr>\n",
       "    <tr>\n",
       "      <td>4</td>\n",
       "      <td>strongsubj</td>\n",
       "      <td>1</td>\n",
       "      <td>biased</td>\n",
       "      <td>adj</td>\n",
       "      <td>n</td>\n",
       "      <td>negative</td>\n",
       "    </tr>\n",
       "  </tbody>\n",
       "</table>\n",
       "</div>"
      ],
      "text/plain": [
       "         type  length         word part_of_speech stemmed  polarity\n",
       "0  strongsubj       1      bestial            adj       n  negative\n",
       "1  strongsubj       1   bewildered            adj       n  negative\n",
       "2  strongsubj       1  bewildering            adj       n  negative\n",
       "3  strongsubj       1         bias            adj       n  negative\n",
       "4  strongsubj       1       biased            adj       n  negative"
      ]
     },
     "execution_count": 5,
     "metadata": {},
     "output_type": "execute_result"
    }
   ],
   "source": [
    "dictionary.head()"
   ]
  },
  {
   "cell_type": "code",
   "execution_count": 6,
   "metadata": {},
   "outputs": [
    {
     "data": {
      "text/plain": [
       "(8210, 6)"
      ]
     },
     "execution_count": 6,
     "metadata": {},
     "output_type": "execute_result"
    }
   ],
   "source": [
    "dictionary.shape"
   ]
  },
  {
   "cell_type": "code",
   "execution_count": 7,
   "metadata": {
    "scrolled": true
   },
   "outputs": [],
   "source": [
    "dictionary.loc[dictionary.polarity == 'both', 'polarity'] = 'neutral'\n",
    "dictionary[\"score\"] = np.select([((dictionary.type == 'strongsubj') & (dictionary.polarity == 'negative')),\n",
    "                              ((dictionary.type == 'weaksubj') & (dictionary.polarity == 'negative')),\n",
    "                              dictionary.polarity == 'neutral',\n",
    "                              ((dictionary.type == 'strongsubj') & (dictionary.polarity == 'positive')),\n",
    "                              ((dictionary.type == 'weaksubj') & (dictionary.polarity == 'positive'))], \n",
    "                        [1,2,3,4,5])"
   ]
  },
  {
   "cell_type": "code",
   "execution_count": 8,
   "metadata": {},
   "outputs": [
    {
     "data": {
      "text/html": [
       "<div>\n",
       "<style scoped>\n",
       "    .dataframe tbody tr th:only-of-type {\n",
       "        vertical-align: middle;\n",
       "    }\n",
       "\n",
       "    .dataframe tbody tr th {\n",
       "        vertical-align: top;\n",
       "    }\n",
       "\n",
       "    .dataframe thead th {\n",
       "        text-align: right;\n",
       "    }\n",
       "</style>\n",
       "<table border=\"1\" class=\"dataframe\">\n",
       "  <thead>\n",
       "    <tr style=\"text-align: right;\">\n",
       "      <th></th>\n",
       "      <th>type</th>\n",
       "      <th>length</th>\n",
       "      <th>word</th>\n",
       "      <th>part_of_speech</th>\n",
       "      <th>stemmed</th>\n",
       "      <th>polarity</th>\n",
       "      <th>score</th>\n",
       "    </tr>\n",
       "  </thead>\n",
       "  <tbody>\n",
       "    <tr>\n",
       "      <td>0</td>\n",
       "      <td>strongsubj</td>\n",
       "      <td>1</td>\n",
       "      <td>bestial</td>\n",
       "      <td>adj</td>\n",
       "      <td>n</td>\n",
       "      <td>negative</td>\n",
       "      <td>1</td>\n",
       "    </tr>\n",
       "    <tr>\n",
       "      <td>1</td>\n",
       "      <td>strongsubj</td>\n",
       "      <td>1</td>\n",
       "      <td>bewildered</td>\n",
       "      <td>adj</td>\n",
       "      <td>n</td>\n",
       "      <td>negative</td>\n",
       "      <td>1</td>\n",
       "    </tr>\n",
       "    <tr>\n",
       "      <td>2</td>\n",
       "      <td>strongsubj</td>\n",
       "      <td>1</td>\n",
       "      <td>bewildering</td>\n",
       "      <td>adj</td>\n",
       "      <td>n</td>\n",
       "      <td>negative</td>\n",
       "      <td>1</td>\n",
       "    </tr>\n",
       "    <tr>\n",
       "      <td>3</td>\n",
       "      <td>strongsubj</td>\n",
       "      <td>1</td>\n",
       "      <td>bias</td>\n",
       "      <td>adj</td>\n",
       "      <td>n</td>\n",
       "      <td>negative</td>\n",
       "      <td>1</td>\n",
       "    </tr>\n",
       "    <tr>\n",
       "      <td>4</td>\n",
       "      <td>strongsubj</td>\n",
       "      <td>1</td>\n",
       "      <td>biased</td>\n",
       "      <td>adj</td>\n",
       "      <td>n</td>\n",
       "      <td>negative</td>\n",
       "      <td>1</td>\n",
       "    </tr>\n",
       "  </tbody>\n",
       "</table>\n",
       "</div>"
      ],
      "text/plain": [
       "         type  length         word part_of_speech stemmed  polarity  score\n",
       "0  strongsubj       1      bestial            adj       n  negative      1\n",
       "1  strongsubj       1   bewildered            adj       n  negative      1\n",
       "2  strongsubj       1  bewildering            adj       n  negative      1\n",
       "3  strongsubj       1         bias            adj       n  negative      1\n",
       "4  strongsubj       1       biased            adj       n  negative      1"
      ]
     },
     "execution_count": 8,
     "metadata": {},
     "output_type": "execute_result"
    }
   ],
   "source": [
    "dictionary.head()"
   ]
  },
  {
   "cell_type": "code",
   "execution_count": 9,
   "metadata": {},
   "outputs": [],
   "source": [
    "tweets_sdf = spark.createDataFrame(tweets)\n",
    "dictionary_sdf = spark.createDataFrame(dictionary).select(fn.col(\"word\").alias('words'), \"score\")"
   ]
  },
  {
   "cell_type": "code",
   "execution_count": 10,
   "metadata": {},
   "outputs": [
    {
     "name": "stdout",
     "output_type": "stream",
     "text": [
      "tweets_sdf:  625\n",
      "dictionary_sdf:  8210\n"
     ]
    }
   ],
   "source": [
    "print(\"tweets_sdf: \",tweets_sdf.count())\n",
    "print(\"dictionary_sdf: \", dictionary_sdf.count())"
   ]
  },
  {
   "cell_type": "code",
   "execution_count": 11,
   "metadata": {},
   "outputs": [],
   "source": [
    "from pyspark.ml.feature import StopWordsRemover\n",
    "\n",
    "stop_words = StopWordsRemover.loadDefaultStopWords(\"english\")\n",
    "stop_words.append(\"fudgemart\")\n",
    "\n",
    "sw_filter = StopWordsRemover()\\\n",
    "  .setStopWords(stop_words)\\\n",
    "  .setCaseSensitive(False)\\\n",
    "  .setInputCol(\"words\")\\\n",
    "  .setOutputCol(\"words_filtered\")\n",
    "\n",
    "tokenizer = RegexTokenizer().setGaps(False)\\\n",
    "  .setPattern(\"\\\\p{L}+\")\\\n",
    "  .setInputCol(\"Tweet\")\\\n",
    "  .setOutputCol(\"words\")\n",
    "\n",
    "pipeline = Pipeline(stages = [tokenizer,sw_filter]).fit(tweets_sdf)"
   ]
  },
  {
   "cell_type": "code",
   "execution_count": 12,
   "metadata": {},
   "outputs": [
    {
     "name": "stdout",
     "output_type": "stream",
     "text": [
      "Count:  625\n",
      "+-------------------+------------------+--------------------+-------------+--------------------+--------------------+--------------------+\n",
      "|            TweetID|     UnixTimeStamp|           TimeStamp|TwitterUserID|               Tweet|               words|      words_filtered|\n",
      "+-------------------+------------------+--------------------+-------------+--------------------+--------------------+--------------------+\n",
      "|4007366899589130240|1.24584932929029E9|Wed Jun 24 09:15:...|    benarreau|Really enjoying m...|[really, enjoying...|[really, enjoying...|\n",
      "|1917240238549289984|1.35466478238322E9|Tue Dec 04 18:46:...|    benarreau|Fudgemart's digit...|[fudgemart, s, di...|[digital, downloa...|\n",
      "|2764278507764550144|1.24840800014412E9|Fri Jul 24 00:00:...|    benarreau|Who uses the fudg...|[who, uses, the, ...|     [uses, website]|\n",
      "|2737642715545119744| 1.2788202920058E9|Sat Jul 10 23:51:...|    benarreau|#fudgemart custom...|[fudgemart, custo...|[customer, servic...|\n",
      "| 846963692469470976|1.32476658700652E9|Sat Dec 24 17:43:...|    benarreau|#fudgemart custom...|[fudgemart, custo...|[customer, servic...|\n",
      "+-------------------+------------------+--------------------+-------------+--------------------+--------------------+--------------------+\n",
      "only showing top 5 rows\n",
      "\n"
     ]
    }
   ],
   "source": [
    "tweets_df = pipeline.transform(tweets_sdf)\n",
    "print(\"Count: \", tweets_df.count())\n",
    "tweets_df.show(5)"
   ]
  },
  {
   "cell_type": "code",
   "execution_count": 13,
   "metadata": {
    "scrolled": true
   },
   "outputs": [
    {
     "name": "stdout",
     "output_type": "stream",
     "text": [
      "+-------+-------------------+-----+\n",
      "|  words|            TweetID|score|\n",
      "+-------+-------------------+-----+\n",
      "|jewelry|4007366899589130240|    3|\n",
      "|jewelry|4230207123119609856|    3|\n",
      "|jewelry|1576833952510230016|    3|\n",
      "|jewelry|1083354024376899968|    3|\n",
      "|jewelry|2546901730034719744|    3|\n",
      "+-------+-------------------+-----+\n",
      "only showing top 5 rows\n",
      "\n"
     ]
    }
   ],
   "source": [
    "tweets_sentiment = tweets_df.select('TweetID', fn.explode('words_filtered').\\\n",
    "                                    alias('words')).join(dictionary_sdf, on= 'words', how= \"left\").\\\n",
    "na.fill(3)\n",
    "tweets_sentiment.show(5)"
   ]
  },
  {
   "cell_type": "code",
   "execution_count": 14,
   "metadata": {},
   "outputs": [
    {
     "data": {
      "text/plain": [
       "2479"
      ]
     },
     "execution_count": 14,
     "metadata": {},
     "output_type": "execute_result"
    }
   ],
   "source": [
    "tweets_sentiment.count()"
   ]
  },
  {
   "cell_type": "code",
   "execution_count": 15,
   "metadata": {},
   "outputs": [],
   "source": [
    "tweets_review = tweets_sentiment.groupBy('TweetID').agg(fn.avg('score').alias('avg_sentiment'))"
   ]
  },
  {
   "cell_type": "code",
   "execution_count": 16,
   "metadata": {},
   "outputs": [
    {
     "name": "stdout",
     "output_type": "stream",
     "text": [
      "+-------------------+-------------+\n",
      "|            TweetID|avg_sentiment|\n",
      "+-------------------+-------------+\n",
      "| 629034406809296000|          3.0|\n",
      "|2393463427634800128|          3.0|\n",
      "| 495446208693884032|          3.5|\n",
      "| 700193951276887040|          3.5|\n",
      "|4091249120870569984|          3.0|\n",
      "+-------------------+-------------+\n",
      "only showing top 5 rows\n",
      "\n"
     ]
    }
   ],
   "source": [
    "tweets_review.show(5)"
   ]
  },
  {
   "cell_type": "code",
   "execution_count": 17,
   "metadata": {},
   "outputs": [
    {
     "data": {
      "text/plain": [
       "613"
      ]
     },
     "execution_count": 17,
     "metadata": {},
     "output_type": "execute_result"
    }
   ],
   "source": [
    "tweets_review.count()"
   ]
  },
  {
   "cell_type": "code",
   "execution_count": 18,
   "metadata": {},
   "outputs": [],
   "source": [
    "final = tweets_review.join(tweets_sdf, 'TweetID')"
   ]
  },
  {
   "cell_type": "code",
   "execution_count": 19,
   "metadata": {},
   "outputs": [
    {
     "name": "stdout",
     "output_type": "stream",
     "text": [
      "+-------------------+------------------+------------------+--------------------+-------------+--------------------+\n",
      "|            TweetID|     avg_sentiment|     UnixTimeStamp|           TimeStamp|TwitterUserID|               Tweet|\n",
      "+-------------------+------------------+------------------+--------------------+-------------+--------------------+\n",
      "| 495446208693884032|               3.5|1.28479416422551E9|Sat Sep 18 03:16:...|      rdeboat|Happy with my ser...|\n",
      "| 629034406809296000|               3.0|1.24311618973726E9|Sat May 23 18:03:...|     edetyers|There are new dig...|\n",
      "|2393463427634800128|               3.0|1.33621547422489E9|Sat May 05 06:57:...|     gtofwind|Hey fudgemart, wh...|\n",
      "| 700193951276887040|               3.5|1.32781623785616E9|Sun Jan 29 00:50:...| afirenzergon|Just got some ele...|\n",
      "| 757546958643576064|3.3333333333333335|1.23320471069789E9|Wed Jan 28 23:51:...|   etasomthin|Glad I bought my ...|\n",
      "+-------------------+------------------+------------------+--------------------+-------------+--------------------+\n",
      "only showing top 5 rows\n",
      "\n"
     ]
    }
   ],
   "source": [
    "final.show(5)"
   ]
  },
  {
   "cell_type": "code",
   "execution_count": 20,
   "metadata": {},
   "outputs": [
    {
     "data": {
      "text/html": [
       "<div>\n",
       "<style scoped>\n",
       "    .dataframe tbody tr th:only-of-type {\n",
       "        vertical-align: middle;\n",
       "    }\n",
       "\n",
       "    .dataframe tbody tr th {\n",
       "        vertical-align: top;\n",
       "    }\n",
       "\n",
       "    .dataframe thead th {\n",
       "        text-align: right;\n",
       "    }\n",
       "</style>\n",
       "<table border=\"1\" class=\"dataframe\">\n",
       "  <thead>\n",
       "    <tr style=\"text-align: right;\">\n",
       "      <th></th>\n",
       "      <th>TweetID</th>\n",
       "      <th>avg_sentiment</th>\n",
       "      <th>UnixTimeStamp</th>\n",
       "      <th>TimeStamp</th>\n",
       "      <th>TwitterUserID</th>\n",
       "      <th>Tweet</th>\n",
       "    </tr>\n",
       "  </thead>\n",
       "  <tbody>\n",
       "    <tr>\n",
       "      <td>0</td>\n",
       "      <td>495446208693884032</td>\n",
       "      <td>3.500000</td>\n",
       "      <td>1.284794e+09</td>\n",
       "      <td>Sat Sep 18 03:16:04 +0000 2010</td>\n",
       "      <td>rdeboat</td>\n",
       "      <td>Happy with my service from @fudgemart</td>\n",
       "    </tr>\n",
       "    <tr>\n",
       "      <td>1</td>\n",
       "      <td>629034406809296000</td>\n",
       "      <td>3.000000</td>\n",
       "      <td>1.243116e+09</td>\n",
       "      <td>Sat May 23 18:03:09 +0000 2009</td>\n",
       "      <td>edetyers</td>\n",
       "      <td>There are new digital downloads on #fudgemart</td>\n",
       "    </tr>\n",
       "    <tr>\n",
       "      <td>2</td>\n",
       "      <td>2393463427634800128</td>\n",
       "      <td>3.000000</td>\n",
       "      <td>1.336215e+09</td>\n",
       "      <td>Sat May 05 06:57:54 +0000 2012</td>\n",
       "      <td>gtofwind</td>\n",
       "      <td>Hey fudgemart, why is your support so bad? #upset</td>\n",
       "    </tr>\n",
       "    <tr>\n",
       "      <td>3</td>\n",
       "      <td>700193951276887040</td>\n",
       "      <td>3.500000</td>\n",
       "      <td>1.327816e+09</td>\n",
       "      <td>Sun Jan 29 00:50:37 +0000 2012</td>\n",
       "      <td>afirenzergon</td>\n",
       "      <td>Just got some electronics from #fudgemart. Awe...</td>\n",
       "    </tr>\n",
       "    <tr>\n",
       "      <td>4</td>\n",
       "      <td>757546958643576064</td>\n",
       "      <td>3.333333</td>\n",
       "      <td>1.233205e+09</td>\n",
       "      <td>Wed Jan 28 23:51:50 +0000 2009</td>\n",
       "      <td>etasomthin</td>\n",
       "      <td>Glad I bought my books from @fudgemart</td>\n",
       "    </tr>\n",
       "  </tbody>\n",
       "</table>\n",
       "</div>"
      ],
      "text/plain": [
       "               TweetID  avg_sentiment  UnixTimeStamp  \\\n",
       "0   495446208693884032       3.500000   1.284794e+09   \n",
       "1   629034406809296000       3.000000   1.243116e+09   \n",
       "2  2393463427634800128       3.000000   1.336215e+09   \n",
       "3   700193951276887040       3.500000   1.327816e+09   \n",
       "4   757546958643576064       3.333333   1.233205e+09   \n",
       "\n",
       "                        TimeStamp TwitterUserID  \\\n",
       "0  Sat Sep 18 03:16:04 +0000 2010       rdeboat   \n",
       "1  Sat May 23 18:03:09 +0000 2009      edetyers   \n",
       "2  Sat May 05 06:57:54 +0000 2012      gtofwind   \n",
       "3  Sun Jan 29 00:50:37 +0000 2012  afirenzergon   \n",
       "4  Wed Jan 28 23:51:50 +0000 2009    etasomthin   \n",
       "\n",
       "                                               Tweet  \n",
       "0              Happy with my service from @fudgemart  \n",
       "1      There are new digital downloads on #fudgemart  \n",
       "2  Hey fudgemart, why is your support so bad? #upset  \n",
       "3  Just got some electronics from #fudgemart. Awe...  \n",
       "4             Glad I bought my books from @fudgemart  "
      ]
     },
     "execution_count": 20,
     "metadata": {},
     "output_type": "execute_result"
    }
   ],
   "source": [
    "final_pd = final.toPandas()\n",
    "final_pd[\"TweetID\"] = final_pd[\"TweetID\"].astype(str)\n",
    "final_pd.head()"
   ]
  },
  {
   "cell_type": "code",
   "execution_count": 25,
   "metadata": {},
   "outputs": [],
   "source": [
    "final_pd.to_csv('analysis.csv',index = False)"
   ]
  },
  {
   "cell_type": "code",
   "execution_count": null,
   "metadata": {},
   "outputs": [],
   "source": []
  }
 ],
 "metadata": {
  "kernelspec": {
   "display_name": "Python 3",
   "language": "python",
   "name": "python3"
  },
  "language_info": {
   "codemirror_mode": {
    "name": "ipython",
    "version": 3
   },
   "file_extension": ".py",
   "mimetype": "text/x-python",
   "name": "python",
   "nbconvert_exporter": "python",
   "pygments_lexer": "ipython3",
   "version": "3.7.4"
  }
 },
 "nbformat": 4,
 "nbformat_minor": 2
}
